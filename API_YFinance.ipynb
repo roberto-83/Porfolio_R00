{
  "cells": [
    {
      "cell_type": "markdown",
      "metadata": {
        "id": "view-in-github",
        "colab_type": "text"
      },
      "source": [
        "<a href=\"https://colab.research.google.com/github/roberto-83/Porfolio_R00/blob/main/API_YFinance.ipynb\" target=\"_parent\"><img src=\"https://colab.research.google.com/assets/colab-badge.svg\" alt=\"Open In Colab\"/></a>"
      ]
    },
    {
      "cell_type": "code",
      "execution_count": null,
      "metadata": {
        "id": "6uVf-vLGU14X"
      },
      "outputs": [],
      "source": [
        "!python /content/drive/MyDrive/Programmazione/PRJ-Portfolio/scheduled.py"
      ]
    },
    {
      "cell_type": "code",
      "execution_count": null,
      "metadata": {
        "id": "z9Nri-QYl8XD"
      },
      "outputs": [],
      "source": [
        "!pip install yfinance --upgrade --no-cache-dir"
      ]
    },
    {
      "cell_type": "code",
      "execution_count": null,
      "metadata": {
        "id": "GwyJVmqrpAc1"
      },
      "outputs": [],
      "source": [
        "!pip install selenium"
      ]
    },
    {
      "cell_type": "code",
      "execution_count": null,
      "metadata": {
        "id": "d_0TZk3XWmGo"
      },
      "outputs": [],
      "source": [
        "!pip install yahooquery"
      ]
    },
    {
      "cell_type": "code",
      "execution_count": null,
      "metadata": {
        "id": "1wqkr1R0jbCO"
      },
      "outputs": [],
      "source": [
        "!pip install --user currencyconverter"
      ]
    },
    {
      "cell_type": "code",
      "execution_count": null,
      "metadata": {
        "id": "MhaplIeuabxi"
      },
      "outputs": [],
      "source": [
        "!python /content/drive/MyDrive/Programmazione-COLAB/PRJ-Portfolio/stock_data.py"
      ]
    },
    {
      "cell_type": "code",
      "execution_count": null,
      "metadata": {
        "id": "JxX-Tat5y7R5"
      },
      "outputs": [],
      "source": [
        "!python /content/drive/MyDrive/Programmazione-COLAB/PRJ-Portfolio/functions_stocks.py"
      ]
    },
    {
      "cell_type": "code",
      "execution_count": null,
      "metadata": {
        "id": "mi5f-n1qIN_W"
      },
      "outputs": [],
      "source": [
        "!python /content/drive/MyDrive/Programmazione-COLAB/PRJ-Portfolio/bondRead01.py"
      ]
    },
    {
      "cell_type": "code",
      "execution_count": null,
      "metadata": {
        "id": "KwMVJyeDW7lO"
      },
      "outputs": [],
      "source": [
        "!python /content/drive/MyDrive/Programmazione-COLAB/PRJ-Portfolio/functions_etf.py\n"
      ]
    },
    {
      "cell_type": "code",
      "execution_count": null,
      "metadata": {
        "id": "48iwbR4qNca5"
      },
      "outputs": [],
      "source": [
        "!python /content/drive/MyDrive/Programmazione-COLAB/PRJ-Portfolio/functions_bonds.py"
      ]
    },
    {
      "cell_type": "code",
      "execution_count": null,
      "metadata": {
        "id": "K8cPk1T4Iwko",
        "colab": {
          "base_uri": "https://localhost:8080/"
        },
        "outputId": "c4302f9d-2688-4c64-9e01-f7421cefd7be"
      },
      "outputs": [
        {
          "output_type": "stream",
          "name": "stdout",
          "text": [
            "Deleted\n",
            "1804 cells updated.\n",
            "Scritto il Portafoglio\n"
          ]
        }
      ],
      "source": [
        "!python /content/drive/MyDrive/Programmazione-COLAB/PRJ-Portfolio/scheduled.py"
      ]
    }
  ],
  "metadata": {
    "colab": {
      "provenance": [],
      "toc_visible": true,
      "mount_file_id": "19BSZlTs7L81Y6m9pnEK62for5Yr-dxNS",
      "authorship_tag": "ABX9TyMULFLgWtlUeA7OwDxVaBwg",
      "include_colab_link": true
    },
    "kernelspec": {
      "display_name": "Python 3",
      "name": "python3"
    },
    "language_info": {
      "name": "python"
    }
  },
  "nbformat": 4,
  "nbformat_minor": 0
}