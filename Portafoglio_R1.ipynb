{
  "nbformat": 4,
  "nbformat_minor": 0,
  "metadata": {
    "colab": {
      "provenance": [],
      "mount_file_id": "1f47ntTCnw5_AFtlrJ8D9fuv0k6BdiEv2",
      "authorship_tag": "ABX9TyM4qQXI5AeW7FwaMpzhc6fx",
      "include_colab_link": true
    },
    "kernelspec": {
      "name": "python3",
      "display_name": "Python 3"
    },
    "language_info": {
      "name": "python"
    }
  },
  "cells": [
    {
      "cell_type": "markdown",
      "metadata": {
        "id": "view-in-github",
        "colab_type": "text"
      },
      "source": [
        "<a href=\"https://colab.research.google.com/github/roberto-83/Porfolio_R00/blob/main/Portafoglio_R1.ipynb\" target=\"_parent\"><img src=\"https://colab.research.google.com/assets/colab-badge.svg\" alt=\"Open In Colab\"/></a>"
      ]
    },
    {
      "cell_type": "code",
      "execution_count": null,
      "metadata": {
        "id": "M2hl_7c6pLq2"
      },
      "outputs": [],
      "source": [
        "!apt-get install git\n",
        "!pip install gidgethub\n",
        "!pip install aiohttp"
      ]
    },
    {
      "cell_type": "code",
      "source": [
        "!git clone https://github.com/roberto-83/Porfolio_R00/"
      ],
      "metadata": {
        "id": "SebcvlsopeBk"
      },
      "execution_count": null,
      "outputs": []
    },
    {
      "cell_type": "code",
      "source": [
        "!git init"
      ],
      "metadata": {
        "id": "mDhesH6SpumG"
      },
      "execution_count": null,
      "outputs": []
    },
    {
      "cell_type": "code",
      "source": [
        "!git status"
      ],
      "metadata": {
        "id": "_XK1k2Q_pkb2"
      },
      "execution_count": null,
      "outputs": []
    },
    {
      "cell_type": "code",
      "source": [
        "!cp /content/drive/MyDrive/Programmazione-COLAB/PRJ-Portfolio/allfields.txt /content/Porfolio_R00/allfields.txt"
      ],
      "metadata": {
        "id": "UBYIu8pCp1f_"
      },
      "execution_count": 7,
      "outputs": []
    },
    {
      "cell_type": "code",
      "source": [
        "!git config --global user.email \"roberto.polegato@libero.it\"\n",
        "!git config --global user.name \"roberto-83\"\n",
        "!git add .\n",
        "!git branch -M main\n",
        "!git commit -m \"Versione test01\"\n",
        "!git remote add origin git@github.com:roberto-83/Porfolio_R00.git\n",
        "!git push -u origin main"
      ],
      "metadata": {
        "colab": {
          "base_uri": "https://localhost:8080/"
        },
        "id": "w9vu0lAwqMdN",
        "outputId": "7a90fa46-dcec-4dc6-d839-8b81e723b7c3"
      },
      "execution_count": 21,
      "outputs": [
        {
          "output_type": "stream",
          "name": "stdout",
          "text": [
            "On branch main\n",
            "\n",
            "Initial commit\n",
            "\n",
            "Untracked files:\n",
            "  (use \"git add <file>...\" to include in what will be committed)\n",
            "\t\u001b[31m.config/\u001b[m\n",
            "\t\u001b[31mPorfolio_R00/\u001b[m\n",
            "\t\u001b[31mdrive/\u001b[m\n",
            "\t\u001b[31msample_data/\u001b[m\n",
            "\n",
            "nothing added to commit but untracked files present (use \"git add\" to track)\n",
            "error: remote origin already exists.\n",
            "error: src refspec main does not match any\n",
            "\u001b[31merror: failed to push some refs to 'github.com:roberto-83/Porfolio_R00.git'\n",
            "\u001b[m"
          ]
        }
      ]
    },
    {
      "cell_type": "code",
      "source": [
        "!git rm --cached Porfolio_R00\n",
        "!git add Porfolio_R00/\n",
        "!git commit -m \"initial commit\"\n",
        "!git push origin main"
      ],
      "metadata": {
        "colab": {
          "base_uri": "https://localhost:8080/"
        },
        "id": "tCnjh7ikrfGj",
        "outputId": "4ca389e7-0cbc-4f34-c5aa-d84c179162dd"
      },
      "execution_count": 27,
      "outputs": [
        {
          "output_type": "stream",
          "name": "stdout",
          "text": [
            "fatal: pathspec 'Porfolio_R00' did not match any files\n",
            "warning: adding embedded git repository: Porfolio_R00\n",
            "\u001b[33mhint: You've added another git repository inside your current repository.\u001b[m\n",
            "\u001b[33mhint: Clones of the outer repository will not contain the contents of\u001b[m\n",
            "\u001b[33mhint: the embedded repository and will not know how to obtain it.\u001b[m\n",
            "\u001b[33mhint: If you meant to add a submodule, use:\u001b[m\n",
            "\u001b[33mhint: \u001b[m\n",
            "\u001b[33mhint: \tgit submodule add <url> Porfolio_R00\u001b[m\n",
            "\u001b[33mhint: \u001b[m\n",
            "\u001b[33mhint: If you added this path by mistake, you can remove it from the\u001b[m\n",
            "\u001b[33mhint: index with:\u001b[m\n",
            "\u001b[33mhint: \u001b[m\n",
            "\u001b[33mhint: \tgit rm --cached Porfolio_R00\u001b[m\n",
            "\u001b[33mhint: \u001b[m\n",
            "\u001b[33mhint: See \"git help submodule\" for more information.\u001b[m\n",
            "[main (root-commit) 0aee7e9] initial commit\n",
            " 1 file changed, 1 insertion(+)\n",
            " create mode 160000 Porfolio_R00\n",
            "Host key verification failed.\n",
            "fatal: Could not read from remote repository.\n",
            "\n",
            "Please make sure you have the correct access rights\n",
            "and the repository exists.\n"
          ]
        }
      ]
    }
  ]
}